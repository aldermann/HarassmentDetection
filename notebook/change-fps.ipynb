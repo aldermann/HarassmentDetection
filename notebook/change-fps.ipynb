{
 "cells": [
  {
   "cell_type": "code",
   "execution_count": 2,
   "metadata": {
    "colab": {
     "base_uri": "https://localhost:8080/",
     "height": 34
    },
    "colab_type": "code",
    "executionInfo": {
     "elapsed": 1972,
     "status": "ok",
     "timestamp": 1553864443541,
     "user": {
      "displayName": "Long Vu",
      "photoUrl": "https://lh5.googleusercontent.com/-oL_u8wVxMmU/AAAAAAAAAAI/AAAAAAAAABI/MPByVuZoJO0/s64/photo.jpg",
      "userId": "11726823621970821777"
     },
     "user_tz": -420
    },
    "id": "zUOgqlKfkSzo",
    "outputId": "e9d4425e-f208-41ff-ea68-3f89bd92905e"
   },
   "outputs": [
    {
     "name": "stderr",
     "output_type": "stream",
     "text": [
      "Using TensorFlow backend.\n"
     ]
    }
   ],
   "source": [
    "import os\n",
    "import numpy as np\n",
    "import cv2\n",
    "import keras\n",
    "import matplotlib.pyplot as plt\n",
    "from keras import applications, metrics, layers, models, regularizers, optimizers\n",
    "from keras.applications.inception_v3 import InceptionV3"
   ]
  },
  {
   "cell_type": "code",
   "execution_count": 0,
   "metadata": {
    "colab": {
     "base_uri": "https://localhost:8080/",
     "height": 139
    },
    "colab_type": "code",
    "executionInfo": {
     "elapsed": 28573,
     "status": "ok",
     "timestamp": 1553811276628,
     "user": {
      "displayName": "Long Vu",
      "photoUrl": "https://lh5.googleusercontent.com/-oL_u8wVxMmU/AAAAAAAAAAI/AAAAAAAAABI/MPByVuZoJO0/s64/photo.jpg",
      "userId": "11726823621970821777"
     },
     "user_tz": -420
    },
    "id": "Kicp21dLliQf",
    "outputId": "1f13db2c-14a4-4999-dddc-ab3f6385821a"
   },
   "outputs": [
    {
     "name": "stdout",
     "output_type": "stream",
     "text": [
      "WARNING:tensorflow:From /usr/local/lib/python3.6/dist-packages/tensorflow/python/framework/op_def_library.py:263: colocate_with (from tensorflow.python.framework.ops) is deprecated and will be removed in a future version.\n",
      "Instructions for updating:\n",
      "Colocations handled automatically by placer.\n",
      "Downloading data from https://github.com/fchollet/deep-learning-models/releases/download/v0.5/inception_v3_weights_tf_dim_ordering_tf_kernels.h5\n",
      "96116736/96112376 [==============================] - 8s 0us/step\n"
     ]
    },
    {
     "data": {
      "text/plain": [
       "<keras.layers.core.Dense at 0x7f21052ad4a8>"
      ]
     },
     "execution_count": 2,
     "metadata": {
      "tags": []
     },
     "output_type": "execute_result"
    }
   ],
   "source": [
    "incetopnv3 = InceptionV3(include_top=True, weights='imagenet', input_tensor=None, input_shape=None, pooling=None, classes=1000)\n",
    "incetopnv3.layers.pop()"
   ]
  },
  {
   "cell_type": "code",
   "execution_count": 0,
   "metadata": {
    "colab": {},
    "colab_type": "code",
    "id": "fOArOCDFlydl"
   },
   "outputs": [],
   "source": [
    "incetopnv3.summary()"
   ]
  },
  {
   "cell_type": "code",
   "execution_count": 3,
   "metadata": {
    "colab": {
     "base_uri": "https://localhost:8080/",
     "height": 122
    },
    "colab_type": "code",
    "executionInfo": {
     "elapsed": 47043,
     "status": "ok",
     "timestamp": 1553864491948,
     "user": {
      "displayName": "Long Vu",
      "photoUrl": "https://lh5.googleusercontent.com/-oL_u8wVxMmU/AAAAAAAAAAI/AAAAAAAAABI/MPByVuZoJO0/s64/photo.jpg",
      "userId": "11726823621970821777"
     },
     "user_tz": -420
    },
    "id": "NIk1V5STYGZ0",
    "outputId": "6f5a48d0-bfa2-4dfe-c9bb-4fa3fc1121db"
   },
   "outputs": [
    {
     "name": "stdout",
     "output_type": "stream",
     "text": [
      "Go to this URL in a browser: https://accounts.google.com/o/oauth2/auth?client_id=947318989803-6bn6qk8qdgf4n4g3pfee6491hc0brc4i.apps.googleusercontent.com&redirect_uri=urn%3Aietf%3Awg%3Aoauth%3A2.0%3Aoob&scope=email%20https%3A%2F%2Fwww.googleapis.com%2Fauth%2Fdocs.test%20https%3A%2F%2Fwww.googleapis.com%2Fauth%2Fdrive%20https%3A%2F%2Fwww.googleapis.com%2Fauth%2Fdrive.photos.readonly%20https%3A%2F%2Fwww.googleapis.com%2Fauth%2Fpeopleapi.readonly&response_type=code\n",
      "\n",
      "Enter your authorization code:\n",
      "··········\n",
      "Mounted at /content/gdrive\n"
     ]
    }
   ],
   "source": [
    "from google.colab import drive\n",
    "drive.mount('/content/gdrive')"
   ]
  },
  {
   "cell_type": "code",
   "execution_count": 0,
   "metadata": {
    "colab": {},
    "colab_type": "code",
    "id": "v4E2NHSVcky0"
   },
   "outputs": [],
   "source": [
    "width, height, fps = 299, 299, 15"
   ]
  },
  {
   "cell_type": "code",
   "execution_count": 0,
   "metadata": {
    "colab": {},
    "colab_type": "code",
    "id": "R5vulCtHe2Bf"
   },
   "outputs": [],
   "source": [
    "from google.colab.patches import cv2_imshow"
   ]
  },
  {
   "cell_type": "code",
   "execution_count": 0,
   "metadata": {
    "colab": {
     "base_uri": "https://localhost:8080/",
     "height": 34
    },
    "colab_type": "code",
    "executionInfo": {
     "elapsed": 3414,
     "status": "ok",
     "timestamp": 1553813538177,
     "user": {
      "displayName": "Long Vu",
      "photoUrl": "https://lh5.googleusercontent.com/-oL_u8wVxMmU/AAAAAAAAAAI/AAAAAAAAABI/MPByVuZoJO0/s64/photo.jpg",
      "userId": "11726823621970821777"
     },
     "user_tz": -420
    },
    "id": "RR_kcZhGauE5",
    "outputId": "abdf542d-25c0-486e-fe23-4a35a0ad51f4"
   },
   "outputs": [
    {
     "name": "stdout",
     "output_type": "stream",
     "text": [
      "1634\n"
     ]
    }
   ],
   "source": [
    "cap = cv2.VideoCapture('gdrive/My Drive/DA-20182/video/criminal-video/videoplayback.mp4')\n",
    "# cap.set(cv2.CAP_PROP_FRAME_WIDTH, width)\n",
    "# cap.set(cv2.CAP_PROP_FRAME_HEIGHT, height)\n",
    "cap.set(cv2.CAP_PROP_FPS, fps)\n",
    "ret = True\n",
    "count = 0\n",
    "while ret:\n",
    "    ret, frame = cap.read()\n",
    "    "
   ]
  },
  {
   "cell_type": "code",
   "execution_count": 0,
   "metadata": {
    "colab": {
     "base_uri": "https://localhost:8080/",
     "height": 34
    },
    "colab_type": "code",
    "executionInfo": {
     "elapsed": 1792,
     "status": "ok",
     "timestamp": 1553840096174,
     "user": {
      "displayName": "Long Vu",
      "photoUrl": "https://lh5.googleusercontent.com/-oL_u8wVxMmU/AAAAAAAAAAI/AAAAAAAAABI/MPByVuZoJO0/s64/photo.jpg",
      "userId": "11726823621970821777"
     },
     "user_tz": -420
    },
    "id": "wWNGbn53gtya",
    "outputId": "2cff4998-b923-42e6-bf6e-25ab775a39a3"
   },
   "outputs": [
    {
     "name": "stdout",
     "output_type": "stream",
     "text": [
      "15.0\n"
     ]
    }
   ],
   "source": [
    "cap = cv2.VideoCapture('gdrive/My Drive/DA-20182/fps_15_video/criminal-video/videoplayback.mp4', )\n",
    "print(cap.get(cv2.CAP_PROP_FPS))"
   ]
  },
  {
   "cell_type": "code",
   "execution_count": 0,
   "metadata": {
    "colab": {},
    "colab_type": "code",
    "id": "xqnQ4pM4mJlG"
   },
   "outputs": [],
   "source": [
    "from moviepy.editor import *\n",
    "path_of_videos = 'gdrive/My Drive/DA-20182/video'\n",
    "path_of_fps15videos = 'gdrive/My Drive/DA-20182/fps_15_video'\n",
    "if not os.path.isdir(path_of_fps15videos):\n",
    "  os.mkdir(path_of_fps15videos)\n",
    "categories = os.listdir(path_of_videos)\n",
    "for category in ['suspicious-video']:\n",
    "  videos = os.listdir(os.path.join(path_of_videos, category))\n",
    "  category_path = os.path.join(path_of_videos, category)\n",
    "  category_new_path = os.path.join(path_of_fps15videos, category)\n",
    "  if not os.path.isdir(category_new_path):\n",
    "    os.mkdir(category_new_path)\n",
    "  for video in videos:\n",
    "    clip = VideoFileClip(os.path.join(category_path, video))\n",
    "    clip.write_videofile(os.path.join(category_new_path, video), fps=fps)"
   ]
  }
 ],
 "metadata": {
  "colab": {
   "name": "suspipious-detection.ipynb",
   "provenance": [],
   "version": "0.3.2"
  },
  "kernelspec": {
   "display_name": "Python 3",
   "language": "python",
   "name": "python3"
  },
  "language_info": {
   "codemirror_mode": {
    "name": "ipython",
    "version": 3
   },
   "file_extension": ".py",
   "mimetype": "text/x-python",
   "name": "python",
   "nbconvert_exporter": "python",
   "pygments_lexer": "ipython3",
   "version": "3.7.3"
  }
 },
 "nbformat": 4,
 "nbformat_minor": 1
}
